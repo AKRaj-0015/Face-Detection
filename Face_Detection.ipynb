{
 "cells": [
  {
   "cell_type": "code",
   "execution_count": 8,
   "id": "26aebafa",
   "metadata": {},
   "outputs": [],
   "source": [
    "import pathlib\n",
    "import cv2\n",
    "\n",
    "cascade_path = pathlib.Path(cv2.__file__).parent.absolute() / \"data/haarcascade_frontalface_default.xml\" \n",
    "\n",
    "clf = cv2.CascadeClassifier(str(cascade_path))\n",
    "\n",
    "video_file = \"meet.mp4\"\n",
    "if not pathlib.Path(video_file).is_file():\n",
    "    print(f\"Error: Video file '{video_file}' not found.\")\n",
    "    exit()\n",
    "\n",
    "camera = cv2.VideoCapture(0)\n",
    "\n",
    "if not camera.isOpened():\n",
    "    print(\"Error: Unable to open video capture.\")\n",
    "    exit()\n",
    "\n",
    "while True:\n",
    "    ret, frame = camera.read()\n",
    "    if not ret:\n",
    "        print(\"Error: Unable to read frame from video.\")\n",
    "        break\n",
    "\n",
    "    gray = cv2.cvtColor(frame, cv2.COLOR_BGR2GRAY)\n",
    "    faces = clf.detectMultiScale(\n",
    "        gray,\n",
    "        scaleFactor=1.1,\n",
    "        minNeighbors=5,\n",
    "        minSize=(30, 30),\n",
    "        flags=cv2.CASCADE_SCALE_IMAGE\n",
    "    )\n",
    "    \n",
    "    for (x, y, width, height) in faces:\n",
    "        cv2.rectangle(frame, (x, y), (x+width, y+height), (255,255,0), 2)\n",
    "        \n",
    "    cv2.imshow(\"Faces\", frame)\n",
    "    if cv2.waitKey(1) == ord(\"q\"):\n",
    "        break\n",
    "        \n",
    "camera.release()\n",
    "cv2.destroyAllWindows()"
   ]
  },
  {
   "cell_type": "code",
   "execution_count": null,
   "id": "ba27c5a9",
   "metadata": {},
   "outputs": [],
   "source": []
  },
  {
   "cell_type": "code",
   "execution_count": null,
   "id": "450d0461",
   "metadata": {},
   "outputs": [],
   "source": []
  },
  {
   "cell_type": "code",
   "execution_count": null,
   "id": "8347b429",
   "metadata": {},
   "outputs": [],
   "source": []
  },
  {
   "cell_type": "code",
   "execution_count": null,
   "id": "48793c27",
   "metadata": {},
   "outputs": [],
   "source": []
  }
 ],
 "metadata": {
  "kernelspec": {
   "display_name": "Python 3 (ipykernel)",
   "language": "python",
   "name": "python3"
  },
  "language_info": {
   "codemirror_mode": {
    "name": "ipython",
    "version": 3
   },
   "file_extension": ".py",
   "mimetype": "text/x-python",
   "name": "python",
   "nbconvert_exporter": "python",
   "pygments_lexer": "ipython3",
   "version": "3.10.9"
  }
 },
 "nbformat": 4,
 "nbformat_minor": 5
}
